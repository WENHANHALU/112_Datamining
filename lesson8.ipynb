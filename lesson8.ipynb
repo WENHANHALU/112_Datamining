{
 "cells": [
  {
   "cell_type": "code",
   "execution_count": 3,
   "metadata": {},
   "outputs": [
    {
     "name": "stdout",
     "output_type": "stream",
     "text": [
      "============猜數字遊戲=================\n",
      "\n",
      "再小一點\n",
      "加油@您已經猜了1次\n",
      "再小一點\n",
      "加油@您已經猜了2次\n",
      "再小一點\n",
      "加油@您已經猜了3次\n",
      "賓果!猜對了, 答案是:1\n",
      "您猜了4次\n",
      "遊戲結束\n",
      "遊戲結束\n"
     ]
    }
   ],
   "source": [
    "import tools\n",
    "\n",
    "def main():\n",
    "    while(True):\n",
    "        tools.playGame()\n",
    "        pleyAgain = input(\"您還要繼續嗎(Y/N)?\")\n",
    "        if pleyAgain == \"N\":\n",
    "            break\n",
    "    print(\"遊戲結束\")\n",
    "\n",
    "if __name__ == \"__main__\":\n",
    "    main()"
   ]
  },
  {
   "cell_type": "code",
   "execution_count": 1,
   "metadata": {},
   "outputs": [
    {
     "name": "stdout",
     "output_type": "stream",
     "text": [
      "robert 19 200\n",
      "200\n"
     ]
    }
   ],
   "source": [
    "import tools\n",
    "\n",
    "stu1 = tools.Student(name=\"robert\",chinese=89,english=92,math=19)\n",
    "\n",
    "print(stu1.name,stu1.math,stu1.sum())\n",
    "print(stu1.sum())"
   ]
  },
  {
   "cell_type": "code",
   "execution_count": 2,
   "metadata": {},
   "outputs": [
    {
     "name": "stdout",
     "output_type": "stream",
     "text": [
      "robert 19 200\n",
      "200\n"
     ]
    }
   ],
   "source": [
    "# 方法二\n",
    "from tools import Student \n",
    "\n",
    "stu1 = Student(name=\"robert\",chinese=89,english=92,math=19)\n",
    "\n",
    "print(stu1.name,stu1.math,stu1.sum())\n",
    "print(stu1.sum())"
   ]
  },
  {
   "cell_type": "code",
   "execution_count": 23,
   "metadata": {},
   "outputs": [
    {
     "ename": "ImportError",
     "evalue": "cannot import name 'getStudent' from 'tools' (/workspaces/112_Datamining/tools.py)",
     "output_type": "error",
     "traceback": [
      "\u001b[0;31m---------------------------------------------------------------------------\u001b[0m",
      "\u001b[0;31mImportError\u001b[0m                               Traceback (most recent call last)",
      "\u001b[1;32m/workspaces/112_Datamining/lesson8.ipynb Cell 4\u001b[0m line \u001b[0;36m2\n\u001b[1;32m      <a href='vscode-notebook-cell://codespaces%2Bcurly-yodel-jv4rqgv7w79c77p/workspaces/112_Datamining/lesson8.ipynb#W3sdnNjb2RlLXJlbW90ZQ%3D%3D?line=0'>1</a>\u001b[0m \u001b[39m#方法三，getStudent是def，不是class，所以無法imprt進來做使用\u001b[39;00m\n\u001b[0;32m----> <a href='vscode-notebook-cell://codespaces%2Bcurly-yodel-jv4rqgv7w79c77p/workspaces/112_Datamining/lesson8.ipynb#W3sdnNjb2RlLXJlbW90ZQ%3D%3D?line=1'>2</a>\u001b[0m \u001b[39mfrom\u001b[39;00m \u001b[39mtools\u001b[39;00m \u001b[39mimport\u001b[39;00m getStudent\n\u001b[1;32m      <a href='vscode-notebook-cell://codespaces%2Bcurly-yodel-jv4rqgv7w79c77p/workspaces/112_Datamining/lesson8.ipynb#W3sdnNjb2RlLXJlbW90ZQ%3D%3D?line=3'>4</a>\u001b[0m stu1 \u001b[39m=\u001b[39m getStudent(name\u001b[39m=\u001b[39m\u001b[39m\"\u001b[39m\u001b[39mrobert\u001b[39m\u001b[39m\"\u001b[39m,chinese\u001b[39m=\u001b[39m\u001b[39m89\u001b[39m,english\u001b[39m=\u001b[39m\u001b[39m92\u001b[39m,math\u001b[39m=\u001b[39m\u001b[39m19\u001b[39m)\n\u001b[1;32m      <a href='vscode-notebook-cell://codespaces%2Bcurly-yodel-jv4rqgv7w79c77p/workspaces/112_Datamining/lesson8.ipynb#W3sdnNjb2RlLXJlbW90ZQ%3D%3D?line=5'>6</a>\u001b[0m \u001b[39mprint\u001b[39m(stu1\u001b[39m.\u001b[39mname,stu1\u001b[39m.\u001b[39mmath,stu1\u001b[39m.\u001b[39msum())\n",
      "\u001b[0;31mImportError\u001b[0m: cannot import name 'getStudent' from 'tools' (/workspaces/112_Datamining/tools.py)"
     ]
    }
   ],
   "source": [
    "#方法三，錯誤範例\n",
    "#getStudent是def，不是class，所以無法imprt進來做使用\n",
    "from tools import getStudent\n",
    "\n",
    "stu1 = getStudent(name=\"robert\",chinese=89,english=92,math=19)\n",
    "\n",
    "print(stu1.name,stu1.math,stu1.sum())\n",
    "print(stu1.sum())"
   ]
  },
  {
   "cell_type": "code",
   "execution_count": 25,
   "metadata": {},
   "outputs": [],
   "source": [
    "def fun1(*args)->None: # *args 引數位置\n",
    "    print(args)"
   ]
  },
  {
   "cell_type": "code",
   "execution_count": 26,
   "metadata": {},
   "outputs": [
    {
     "name": "stdout",
     "output_type": "stream",
     "text": [
      "()\n"
     ]
    }
   ],
   "source": [
    "fun1()"
   ]
  },
  {
   "cell_type": "code",
   "execution_count": 27,
   "metadata": {},
   "outputs": [
    {
     "name": "stdout",
     "output_type": "stream",
     "text": [
      "(1, 2, 3, 'a', 'b', 'c', 3.5, 9.5)\n"
     ]
    }
   ],
   "source": [
    "fun1(1,2,3,'a','b','c',3.5,9.5)"
   ]
  },
  {
   "cell_type": "code",
   "execution_count": 28,
   "metadata": {},
   "outputs": [],
   "source": [
    "def fun2(**kwargs)->None: # **kwargs引數名稱\n",
    "    print(kwargs)"
   ]
  },
  {
   "cell_type": "code",
   "execution_count": 29,
   "metadata": {},
   "outputs": [
    {
     "name": "stdout",
     "output_type": "stream",
     "text": [
      "{}\n"
     ]
    }
   ],
   "source": [
    "fun2()"
   ]
  },
  {
   "cell_type": "code",
   "execution_count": 30,
   "metadata": {},
   "outputs": [
    {
     "name": "stdout",
     "output_type": "stream",
     "text": [
      "{'a': 13, 'b': 25, 'n': 'robert', 'j': 'jay'}\n"
     ]
    }
   ],
   "source": [
    "fun2(a=13,b=25,n='robert',j='jay')"
   ]
  },
  {
   "cell_type": "code",
   "execution_count": null,
   "metadata": {},
   "outputs": [],
   "source": [
    "import requests\n",
    "\n",
    "response = requests.get()\n",
    "print(response.text)"
   ]
  }
 ],
 "metadata": {
  "kernelspec": {
   "display_name": "Python 3",
   "language": "python",
   "name": "python3"
  },
  "language_info": {
   "codemirror_mode": {
    "name": "ipython",
    "version": 3
   },
   "file_extension": ".py",
   "mimetype": "text/x-python",
   "name": "python",
   "nbconvert_exporter": "python",
   "pygments_lexer": "ipython3",
   "version": "3.10.13"
  }
 },
 "nbformat": 4,
 "nbformat_minor": 2
}
