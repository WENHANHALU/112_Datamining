{
 "cells": [
  {
   "cell_type": "code",
   "execution_count": 3,
   "metadata": {},
   "outputs": [
    {
     "data": {
      "text/plain": [
       "10"
      ]
     },
     "metadata": {},
     "output_type": "display_data"
    }
   ],
   "source": [
    "#複合指令運算子\n",
    "n = 5\n",
    "n += 5 #相當於 n = n + 5\n",
    "display(n)"
   ]
  },
  {
   "cell_type": "code",
   "execution_count": 7,
   "metadata": {},
   "outputs": [
    {
     "name": "stdout",
     "output_type": "stream",
     "text": [
      "你是成年人 28 歲\n"
     ]
    }
   ],
   "source": [
    "#雙向選擇\n",
    "age  = int(input(\"請輸入年紀：\"))\n",
    "if age >= 20:\n",
    "    print(\"你是成年人\",age,\"歲\")\n",
    "else:\n",
    "    print(\"你是未成年\",age,\"歲\")"
   ]
  },
  {
   "cell_type": "code",
   "execution_count": 3,
   "metadata": {},
   "outputs": [
    {
     "name": "stdout",
     "output_type": "stream",
     "text": [
      "輸入錯誤\n"
     ]
    }
   ],
   "source": [
    "try:\n",
    "    age =  int(input(\"請輸入年紀：\"))\n",
    "except:\n",
    "    print(\"輸入錯誤\")\n",
    "else:\n",
    "    if age >= 20:\n",
    "        print(\"你是成年人\",age,\"歲\")\n",
    "    else:\n",
    "        print(\"你是未成年\",age,\"歲\")\n"
   ]
  },
  {
   "cell_type": "code",
   "execution_count": 4,
   "metadata": {},
   "outputs": [
    {
     "name": "stdout",
     "output_type": "stream",
     "text": [
      "Defaulting to user installation because normal site-packages is not writeable\n",
      "Collecting PyInputPlus\n",
      "  Downloading PyInputPlus-0.2.12.tar.gz (20 kB)\n",
      "  Installing build dependencies ... \u001b[?25ldone\n",
      "\u001b[?25h  Getting requirements to build wheel ... \u001b[?25ldone\n",
      "\u001b[?25h  Preparing metadata (pyproject.toml) ... \u001b[?25ldone\n",
      "\u001b[?25hCollecting pysimplevalidate>=0.2.7\n",
      "  Downloading PySimpleValidate-0.2.12.tar.gz (22 kB)\n",
      "  Installing build dependencies ... \u001b[?25ldone\n",
      "\u001b[?25h  Getting requirements to build wheel ... \u001b[?25ldone\n",
      "\u001b[?25h  Preparing metadata (pyproject.toml) ... \u001b[?25ldone\n",
      "\u001b[?25hCollecting stdiomask>=0.0.3\n",
      "  Downloading stdiomask-0.0.6.tar.gz (3.6 kB)\n",
      "  Installing build dependencies ... \u001b[?25ldone\n",
      "\u001b[?25h  Getting requirements to build wheel ... \u001b[?25ldone\n",
      "\u001b[?25h  Preparing metadata (pyproject.toml) ... \u001b[?25ldone\n",
      "\u001b[?25hBuilding wheels for collected packages: PyInputPlus, pysimplevalidate, stdiomask\n",
      "  Building wheel for PyInputPlus (pyproject.toml) ... \u001b[?25ldone\n",
      "\u001b[?25h  Created wheel for PyInputPlus: filename=PyInputPlus-0.2.12-py3-none-any.whl size=11295 sha256=2d101ee68614c338d354301732d51b3a1b000ce816d6184cf4a3a441dd5b72e2\n",
      "  Stored in directory: /home/vscode/.cache/pip/wheels/13/ec/a5/f780c8008b74e885aada43369ebf4d350edfd12bb5909ccb23\n",
      "  Building wheel for pysimplevalidate (pyproject.toml) ... \u001b[?25ldone\n",
      "\u001b[?25h  Created wheel for pysimplevalidate: filename=PySimpleValidate-0.2.12-py3-none-any.whl size=16177 sha256=389b0ad20117196c7375fdb80e79bcfbe8f09bb960e26f346e596ad625ccf597\n",
      "  Stored in directory: /home/vscode/.cache/pip/wheels/64/29/c9/2ee861e5b0775e289013b7c7157e0bdcea3a1b844f835b2eb8\n",
      "  Building wheel for stdiomask (pyproject.toml) ... \u001b[?25ldone\n",
      "\u001b[?25h  Created wheel for stdiomask: filename=stdiomask-0.0.6-py3-none-any.whl size=3306 sha256=75b3fc9cf45e0f2eb3d2ff5225ecc65b0429235a3dbe236f4fbec39dea7cfc8b\n",
      "  Stored in directory: /home/vscode/.cache/pip/wheels/6c/00/4b/0715696f101d7376f67a83cf3d545feb8c241eeee75b80bb6f\n",
      "Successfully built PyInputPlus pysimplevalidate stdiomask\n",
      "Installing collected packages: stdiomask, pysimplevalidate, PyInputPlus\n",
      "Successfully installed PyInputPlus-0.2.12 pysimplevalidate-0.2.12 stdiomask-0.0.6\n",
      "\n",
      "\u001b[1m[\u001b[0m\u001b[34;49mnotice\u001b[0m\u001b[1;39;49m]\u001b[0m\u001b[39;49m A new release of pip is available: \u001b[0m\u001b[31;49m23.0.1\u001b[0m\u001b[39;49m -> \u001b[0m\u001b[32;49m23.2.1\u001b[0m\n",
      "\u001b[1m[\u001b[0m\u001b[34;49mnotice\u001b[0m\u001b[1;39;49m]\u001b[0m\u001b[39;49m To update, run: \u001b[0m\u001b[32;49mpip install --upgrade pip\u001b[0m\n",
      "Note: you may need to restart the kernel to use updated packages.\n"
     ]
    }
   ],
   "source": [
    "#pip install PyInputPlus"
   ]
  },
  {
   "cell_type": "code",
   "execution_count": 3,
   "metadata": {},
   "outputs": [],
   "source": [
    "import pyinputplus as pyip\n",
    "\n",
    "#取代下列檢查格式(try，except)的函示庫\n",
    "# try:\n",
    "#     age =  int(input(\"請輸入年紀：\"))\n",
    "# except:\n",
    "#     print(\"輸入錯誤\")"
   ]
  },
  {
   "cell_type": "code",
   "execution_count": null,
   "metadata": {},
   "outputs": [],
   "source": [
    "age = pyip.inputNum(\"請輸入年紀:\") #不再用int來轉換格式\n",
    "print(age)"
   ]
  },
  {
   "cell_type": "code",
   "execution_count": 10,
   "metadata": {},
   "outputs": [
    {
     "name": "stdout",
     "output_type": "stream",
     "text": [
      "請輸入學生分數(最高300分)：\n",
      "學生分數為： 300 分\n",
      "學生王曉明分數為300分\n"
     ]
    }
   ],
   "source": [
    "scores = pyip.inputInt(\"請輸入學生分數(最高300分)：\") #scores為新變數\n",
    "print(\"\\n學生分數為：\",scores,\"分\") #原始方式\n",
    "\n",
    "name = \"王曉明\"\n",
    "print(f\"學生{name}分數為{scores}分\") #將 f\"{新變數}\" 插補在文字串列中"
   ]
  },
  {
   "cell_type": "code",
   "execution_count": 16,
   "metadata": {},
   "outputs": [
    {
     "name": "stdout",
     "output_type": "stream",
     "text": [
      "請輸入學生分數(最高300分)：\n",
      "學生王曉明分數為200分\n"
     ]
    }
   ],
   "source": [
    "scores = pyip.inputInt(\"請輸入學生分數(最高300分)：\") \n",
    "name = \"王曉明\"\n",
    "print()\n",
    "if scores <= 300:\n",
    "    print(f\"學生{name}分數為{scores}分\")\n",
    "else:\n",
    "    print(f\"豬頭，不可超過300\")"
   ]
  },
  {
   "cell_type": "code",
   "execution_count": 19,
   "metadata": {},
   "outputs": [
    {
     "name": "stdout",
     "output_type": "stream",
     "text": [
      "請輸入學生分數(最高300分)：學生王曉明分數為20分\n"
     ]
    }
   ],
   "source": [
    "scores = pyip.inputInt(\"請輸入學生分數(最高300分)：\",min=0,max=300) #可以省略判斷式\n",
    "name = \"王曉明\"\n",
    "\n",
    "print(f\"學生{name}分數為{scores}分\")"
   ]
  },
  {
   "cell_type": "code",
   "execution_count": 32,
   "metadata": {},
   "outputs": [
    {
     "name": "stdout",
     "output_type": "stream",
     "text": [
      "請輸入學生分數(最高300分)：150 分\n",
      "學生是否符合加分條件?(請選擇1或2)?\n",
      "1. y\n",
      "2. n\n",
      "學生分數150，n加分條件\n"
     ]
    }
   ],
   "source": [
    "#學生總分為300分\n",
    "#有些學生可加分5%\n",
    "#如果加分超過300，幾以300分為準\n",
    "\n",
    "scores = pyip.inputInt(\"請輸入學生分數(最高300分)：\",min=0,max=300) \n",
    "print(scores,\"分\")\n",
    "\n",
    "#表示法1\n",
    "# isYes = pyip.inputMenu([\"有\",\"無\"],\"學生是否符合加分條件?(請選擇1或2)?\\n\",numbered=True)\n",
    "# print(f\"學生分數{scores}，{isYes}加分條件\")\n",
    "\n",
    "#表示法2\n",
    "isYes = pyip.inputMenu([\"y\",\"n\"],\"學生是否符合加分條件?(請選擇1或2)?\\n\",numbered=True)\n",
    "if isYes == \"y\" :\n",
    "    scores *= 1.05\n",
    "    if scores >300:\n",
    "        scores = 300\n",
    "    else:\n",
    "        scores = scores\n",
    "else:\n",
    "    scores = scores\n",
    "print(f\"學生分數{scores}，{isYes}加分條件\")"
   ]
  },
  {
   "cell_type": "code",
   "execution_count": 59,
   "metadata": {},
   "outputs": [
    {
     "name": "stdout",
     "output_type": "stream",
     "text": [
      "請輸入整數：\n",
      "-1.912931182772389\n"
     ]
    }
   ],
   "source": [
    "x =pyip.inputInt(\"請輸入整數：\\n\")\n",
    "y = 3 #自設值\n",
    "\n",
    "#表示法1，把計算值輸入代數，直接輸出\n",
    "# if x >= 0:\n",
    "#     ans = x**(1/y)\n",
    "#     print(ans)\n",
    "# else:\n",
    "#     if x % 2 == 0:\n",
    "#         print(\"虛數\")\n",
    "#     elif x % 2 == 1:\n",
    "#         ans = -(-x)**(1/y)\n",
    "#         print(ans)\n",
    "\n",
    "\n",
    "# 表示法2，直接print(計算值)，直接輸出\n",
    "if x >= 0:\n",
    "    print(x**(1/y))\n",
    "else:\n",
    "    if x % 2 == 0:\n",
    "        print(\"虛數\")\n",
    "    elif x % 2 == 1:\n",
    "        print(-(-x)**(1/y))\n",
    "\n",
    "\n",
    "# #表示法3，代數，最後再輸出\n",
    "# if x >= 0:\n",
    "#     ans = x**(1/y)\n",
    "# else:\n",
    "#     if x % 2 == 0:\n",
    "#         ans = \"虛數\"\n",
    "#     elif x % 2 == 1:\n",
    "#         ans = -(-x)**(1/y)\n",
    "# print(ans)"
   ]
  },
  {
   "cell_type": "code",
   "execution_count": 1,
   "metadata": {},
   "outputs": [
    {
     "name": "stdout",
     "output_type": "stream",
     "text": [
      "甲\n"
     ]
    }
   ],
   "source": [
    "scores = 75\n",
    "\n",
    "# #表示法1，巢狀選擇\n",
    "# if scores < 60:\n",
    "#     print(\"不及格\")\n",
    "# else:\n",
    "#     if scores >= 80:\n",
    "#         print(\"優\")\n",
    "#     else:\n",
    "#         print(\"甲\")\n",
    "\n",
    "#表示法2，用elif整合\n",
    "if scores < 60:\n",
    "    print(\"不及格\")\n",
    "elif scores >= 80:\n",
    "    print(\"優\")\n",
    "else:\n",
    "    print(\"甲\")"
   ]
  },
  {
   "cell_type": "code",
   "execution_count": null,
   "metadata": {},
   "outputs": [],
   "source": []
  }
 ],
 "metadata": {
  "kernelspec": {
   "display_name": "Python 3",
   "language": "python",
   "name": "python3"
  },
  "language_info": {
   "codemirror_mode": {
    "name": "ipython",
    "version": 3
   },
   "file_extension": ".py",
   "mimetype": "text/x-python",
   "name": "python",
   "nbconvert_exporter": "python",
   "pygments_lexer": "ipython3",
   "version": "3.10.13"
  }
 },
 "nbformat": 4,
 "nbformat_minor": 2
}
