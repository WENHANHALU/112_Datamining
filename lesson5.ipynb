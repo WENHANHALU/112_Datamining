{
 "cells": [
  {
   "cell_type": "code",
   "execution_count": null,
   "metadata": {},
   "outputs": [],
   "source": [
    "n = 0\n",
    "\n",
    "for i in range(1,101):\n",
    "    n += i\n",
    "\n",
    "display(n)"
   ]
  },
  {
   "cell_type": "code",
   "execution_count": null,
   "metadata": {},
   "outputs": [],
   "source": [
    "for i  in range(1,10):\n",
    "    print(f\"i={i}\")\n",
    "    for j in range(1,10):\n",
    "        print(f\"j={j}\")\n",
    "    print(\"========\")"
   ]
  },
  {
   "cell_type": "code",
   "execution_count": null,
   "metadata": {},
   "outputs": [],
   "source": [
    "print(1,2,3,4,5) #sep預設為空白\n",
    "print(1,2,3,4,5,sep=\";\")\n",
    "print(1,2,3,4,5,sep=\";\",end=\"?\")"
   ]
  },
  {
   "cell_type": "code",
   "execution_count": null,
   "metadata": {},
   "outputs": [],
   "source": [
    "for i  in range(1,10):\n",
    "    print(f\"i={i}\")\n",
    "    print(\"j=\",end=\"\")\n",
    "    for j in range(1,10):\n",
    "        print(f\"{j}\",end=' ')\n",
    "    print(\"\\n===========\")"
   ]
  },
  {
   "cell_type": "code",
   "execution_count": null,
   "metadata": {},
   "outputs": [],
   "source": [
    "for i in range(1,10):\n",
    "    print(f'i={i}')\n",
    "    print('j=',end='')   \n",
    "    for j in range(1,10):       \n",
    "        print(f'{j}',end=' ')\n",
    "    print(\"\\n==============\")"
   ]
  },
  {
   "cell_type": "code",
   "execution_count": null,
   "metadata": {},
   "outputs": [],
   "source": [
    "\n",
    "\n",
    "for i in range(1,10):\n",
    "    for j in range(1,10):\n",
    "        print(f\"{i}*{j}={i*j}\",end=\" \")\n",
    "    print()\n"
   ]
  },
  {
   "cell_type": "code",
   "execution_count": null,
   "metadata": {},
   "outputs": [],
   "source": [
    "import random\n",
    " \n",
    "n=1\n",
    "\n",
    "while n <= 100:\n",
    "    print(n)\n",
    "    n += random.randint(1,10)"
   ]
  },
  {
   "cell_type": "code",
   "execution_count": null,
   "metadata": {},
   "outputs": [],
   "source": [
    "#奇數輸出平方\n",
    "#偶數輸出原來的值\n",
    "#'q'離開\n",
    "\n",
    "while True:\n",
    "    value = input(\"請輸入整數,輸入(q)離開:\")\n",
    "    if value == \"q\":\n",
    "        break    \n",
    "    value = int(value)\n",
    "    if value % 2 == 1:\n",
    "        print(value ** 2)\n",
    "    else:\n",
    "        print(value)\n",
    "print(\"應用程式結束\")"
   ]
  },
  {
   "cell_type": "code",
   "execution_count": null,
   "metadata": {},
   "outputs": [],
   "source": [
    "#請設計一個程式，請使用者輸入數值\n",
    "#只有加總正偶數值，不加總正奇數值，如果輸入負數，結束程式。\n",
    "\n",
    "total = 0 #起始值\n",
    "num = 1\n",
    "\n",
    "while True:\n",
    "    \n",
    "    value = int(input(f\"請輸入第{num}數值:\"))\n",
    "    if value < 0:\n",
    "        break\n",
    "        print(\"跳出應用程式\")\n",
    "    elif value % 2 ==1:\n",
    "        num += 1 # 累計執行次數\n",
    "        continue\n",
    "        print(\"應用程式繼續執行\")\n",
    "    else:\n",
    "        num += 1 # 累計執行次數\n",
    "        total += value\n",
    "print(\"應用程式結束\")\n",
    "print(f\"總共執行{num}\")\n",
    "print(total)"
   ]
  },
  {
   "cell_type": "code",
   "execution_count": null,
   "metadata": {},
   "outputs": [],
   "source": [
    "import random\n",
    "\n",
    "min = 1\n",
    "max = 10\n",
    "count = 0\n",
    "\n",
    "target = random.randint(min,max)\n",
    "print(\"===========猜數字遊戲========\\n\")\n",
    "while(True):\n",
    "    count += 1\n",
    "    keyin = int(input(f\"猜數字的範圍{min}~{max}\"))\n",
    "    \n",
    "    if keyin >= min and keyin <= max:\n",
    "        if keyin == target:\n",
    "            print(f\"賓果!猜對了，答案是:{keyin}\")\n",
    "            break\n",
    "        else:\n",
    "            print(f\"您猜第{count}次的數字是{keyin}，請再努力!\")\n",
    "            continue\n",
    "    else:\n",
    "        print(\"請輸入提示範圍內的數字\")\n",
    "        continue\n",
    "print(\"遊戲結束\")\n",
    "print(f\"您猜了{count}次\")"
   ]
  },
  {
   "cell_type": "code",
   "execution_count": null,
   "metadata": {},
   "outputs": [],
   "source": [
    "import random\n",
    "\n",
    "min = 1\n",
    "max = 100\n",
    "count = 0\n",
    "\n",
    "target = random.randint(min,max)\n",
    "print(\"===========猜數字遊戲========\\n\")\n",
    "while(True):\n",
    "    count += 1\n",
    "    keyin = int(input(f\"猜數字的範圍{min}~{max}\"))\n",
    "    \n",
    "    if keyin >= min and keyin <= max:\n",
    "        if keyin == target:\n",
    "            print(f\"賓果!猜對了，答案是:{keyin}\")\n",
    "            break\n",
    "        elif keyin > target:\n",
    "            print(\"請在小一點\")\n",
    "            max = keyin-1\n",
    "        elif keyin < target:\n",
    "            print = keyin+1\n",
    "            min = keyin-1\n",
    "    elif:\n",
    "        print(f\"您猜第{count}次的數字是{keyin}，請再努力!\")\n",
    "        continue\n",
    "    else:\n",
    "        print(\"請輸入提示範圍內的數字\")\n",
    "        continue\n",
    "print(\"遊戲結束\")\n",
    "print(f\"您猜了{count}次\")"
   ]
  },
  {
   "cell_type": "code",
   "execution_count": null,
   "metadata": {},
   "outputs": [],
   "source": []
  }
 ],
 "metadata": {
  "kernelspec": {
   "display_name": "Python 3",
   "language": "python",
   "name": "python3"
  },
  "language_info": {
   "codemirror_mode": {
    "name": "ipython",
    "version": 3
   },
   "file_extension": ".py",
   "mimetype": "text/x-python",
   "name": "python",
   "nbconvert_exporter": "python",
   "pygments_lexer": "ipython3",
   "version": "3.10.13"
  }
 },
 "nbformat": 4,
 "nbformat_minor": 2
}
