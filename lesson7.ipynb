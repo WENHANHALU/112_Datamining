{
 "cells": [
  {
   "cell_type": "code",
   "execution_count": 4,
   "metadata": {},
   "outputs": [],
   "source": [
    "def menu(wine:str,entree:str,dessert:str):\n",
    "    print(f\"主餐:{entree}\")\n",
    "    print(f\"主餐:{wine}\")\n",
    "    print(f\"主餐:{dessert}\")"
   ]
  },
  {
   "cell_type": "code",
   "execution_count": 7,
   "metadata": {},
   "outputs": [
    {
     "name": "stdout",
     "output_type": "stream",
     "text": [
      "主餐:牛排\n",
      "主餐:紅酒\n",
      "主餐:提拉米蘇\n"
     ]
    }
   ],
   "source": [
    "#引述名稱的的呼叫\n",
    "menu(\"紅酒\",\"牛排\",\"提拉米蘇\")"
   ]
  },
  {
   "cell_type": "code",
   "execution_count": 8,
   "metadata": {},
   "outputs": [
    {
     "name": "stdout",
     "output_type": "stream",
     "text": [
      "主餐:牛排\n",
      "主餐:紅酒\n",
      "主餐:提拉米蘇\n"
     ]
    }
   ],
   "source": [
    "#引述名稱的呼叫，可以不依照參數的順序\n",
    "menu(dessert=\"提拉米蘇\",wine=\"紅酒\",entree=\"牛排\")"
   ]
  },
  {
   "cell_type": "code",
   "execution_count": 10,
   "metadata": {},
   "outputs": [
    {
     "name": "stdout",
     "output_type": "stream",
     "text": [
      "主餐:牛排\n",
      "主餐:紅酒\n",
      "主餐:提拉米蘇\n"
     ]
    }
   ],
   "source": [
    "#混合呼叫\n",
    "#前面一定先用引數位置,後面使用引數名稱\n",
    "#使用引數名稱後，後面都要引用名稱的呼叫\n",
    "\n",
    "menu(\"紅酒\",dessert=\"提拉米蘇\",entree=\"牛排\")"
   ]
  },
  {
   "cell_type": "code",
   "execution_count": 18,
   "metadata": {},
   "outputs": [
    {
     "name": "stdout",
     "output_type": "stream",
     "text": [
      "============猜數字遊戲=================\n",
      "\n",
      "再大一點\n",
      "加油@您已經猜了1次\n",
      "再大一點\n",
      "加油@您已經猜了2次\n",
      "賓果!猜對了, 答案是:9\n",
      "您猜了3次\n",
      "遊戲結束\n",
      "============猜數字遊戲=================\n",
      "\n",
      "再小一點\n",
      "加油@您已經猜了1次\n",
      "再小一點\n",
      "加油@您已經猜了2次\n",
      "請輸入提示範圍內的數字\n",
      "請輸入提示範圍內的數字\n",
      "再小一點\n",
      "加油@您已經猜了5次\n",
      "再小一點\n",
      "加油@您已經猜了6次\n",
      "賓果!猜對了, 答案是:1\n",
      "您猜了7次\n",
      "遊戲結束\n",
      "遊戲結束\n"
     ]
    }
   ],
   "source": [
    "import random\n",
    "\n",
    "\n",
    "def playGame():\n",
    "    min = 0\n",
    "    max = 10\n",
    "    count = 0\n",
    "    target = random.randint(min,max)\n",
    "    print(\"============猜數字遊戲=================\\n\")\n",
    "    while(True):\n",
    "        keyin = int(input(f\"猜數字的範圍{min}~{max}\"))\n",
    "        count += 1\n",
    "        if(keyin >= min and keyin <= max):\n",
    "            if keyin == target:\n",
    "                print(f\"賓果!猜對了, 答案是:{keyin}\")\n",
    "                break\n",
    "            elif keyin > target:\n",
    "                print(\"再小一點\")\n",
    "                max = keyin\n",
    "            elif keyin < target:\n",
    "                print(\"再大一點\")\n",
    "                min = keyin\n",
    "            print(f\"加油@您已經猜了{count}次\")\n",
    "            continue\n",
    "        else:\n",
    "            print(\"請輸入提示範圍內的數字\")\n",
    "    print(f\"您猜了{count}次\")\n",
    "    print(\"遊戲結束\")\n",
    "\n",
    "def main():\n",
    "    while(True):\n",
    "        playGame()\n",
    "        pleyAgain = input(\"您還要繼續嗎(Y/N)?\")\n",
    "        if pleyAgain == \"N\":\n",
    "            break\n",
    "    print(\"遊戲結束\")\n",
    "\n",
    "\n",
    "if __name__ == \"__main__\":\n",
    "    main()"
   ]
  },
  {
   "cell_type": "code",
   "execution_count": 19,
   "metadata": {},
   "outputs": [],
   "source": [
    "class Student():\n",
    "    pass"
   ]
  },
  {
   "cell_type": "code",
   "execution_count": 20,
   "metadata": {},
   "outputs": [
    {
     "data": {
      "text/plain": [
       "__main__.Student"
      ]
     },
     "execution_count": 20,
     "metadata": {},
     "output_type": "execute_result"
    }
   ],
   "source": [
    "stu1 = Student()\n",
    "type(stu1)"
   ]
  },
  {
   "cell_type": "code",
   "execution_count": 21,
   "metadata": {},
   "outputs": [],
   "source": [
    "stu1.name = \"robert\"\n",
    "stu1.chinese = 78\n",
    "stu1.english = 92\n",
    "stu1.math = 82"
   ]
  },
  {
   "cell_type": "code",
   "execution_count": 22,
   "metadata": {},
   "outputs": [],
   "source": [
    "stu2 = Student()\n",
    "stu2.name = \"alice\"\n",
    "stu2.chinese = 77\n",
    "stu2.english = 93\n",
    "stu2.math = 65"
   ]
  },
  {
   "cell_type": "code",
   "execution_count": 23,
   "metadata": {},
   "outputs": [
    {
     "name": "stdout",
     "output_type": "stream",
     "text": [
      "robert\n",
      "alice\n"
     ]
    }
   ],
   "source": [
    "print(stu1.name)\n",
    "print(stu2.name)"
   ]
  },
  {
   "cell_type": "code",
   "execution_count": 36,
   "metadata": {},
   "outputs": [],
   "source": [
    "class Student():\n",
    "    def __init__(self,name,chinese,english,math):\n",
    "        self.name = name\n",
    "        self.chinese = chinese\n",
    "        self.english = english\n",
    "        self.math = math\n",
    "\n",
    "    def sum(self)->int: #實體方法\n",
    "        return self.chinese + self.english + self.math\n"
   ]
  },
  {
   "cell_type": "code",
   "execution_count": 38,
   "metadata": {},
   "outputs": [
    {
     "name": "stdout",
     "output_type": "stream",
     "text": [
      "robert 92 260\n",
      "260\n"
     ]
    }
   ],
   "source": [
    "stu1 = Student(\"robert\",78,90,92)\n",
    "\n",
    "print(stu1.name,stu1.math,stu1.sum())\n",
    "print(stu1.sum())"
   ]
  },
  {
   "cell_type": "code",
   "execution_count": null,
   "metadata": {},
   "outputs": [],
   "source": []
  }
 ],
 "metadata": {
  "kernelspec": {
   "display_name": "Python 3",
   "language": "python",
   "name": "python3"
  },
  "language_info": {
   "codemirror_mode": {
    "name": "ipython",
    "version": 3
   },
   "file_extension": ".py",
   "mimetype": "text/x-python",
   "name": "python",
   "nbconvert_exporter": "python",
   "pygments_lexer": "ipython3",
   "version": "3.10.13"
  }
 },
 "nbformat": 4,
 "nbformat_minor": 2
}
